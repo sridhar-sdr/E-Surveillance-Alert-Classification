{
 "cells": [
  {
   "cell_type": "markdown",
   "metadata": {},
   "source": [
    "#                                      E-Surveillance Alert Classification\n"
   ]
  },
  {
   "cell_type": "markdown",
   "metadata": {},
   "source": [
    "# Business Problem"
   ]
  },
  {
   "cell_type": "markdown",
   "metadata": {},
   "source": [
    "Description:\n",
    "\n",
    "Prevent break-ins before they occur using IoT security cameras with built-in computer vision capabilities, reducing the need for human intervention. Automated security to safeguard and alert against threats from intrusion or fire using multi-capability sensors such as vibration, motion, smoke, fire, etc.  Ensure the safety of both monetary and intellectual assets with round-the-clock surveillance and controlled access management.\n",
    "\n"
   ]
  },
  {
   "cell_type": "markdown",
   "metadata": {},
   "source": [
    "# Problem Statement"
   ]
  },
  {
   "cell_type": "markdown",
   "metadata": {},
   "source": [
    "We are tasked with classifying the alert whether it is Critical, Normal, or Testing which is received from the various sensors. Such as vibration, motion, smoke, fire, Panic, shutter(Door sensor).\n",
    "\n",
    "True_Normal= Testing the sensors(Smoke, Panic, fire), Smoke Alert due to AC maintenance / UPS maintenance, Cash loading, Pressing the panic switches unknowingly by bank staffs… \n",
    "\n",
    "True_Critical= Smoke, Fire, Network Connection error, PIR, Panic(Fire, Theft Attempt, in ATM and Bank)\n",
    "\n",
    "False_Normal= Sensor Malfunctioning (keep on getting the alert), No activity from PIR, shutter sensors.\n",
    "\n",
    "False_Critical = No activity, But, Alert is received from the critical sensor. Such as Smoke, fire, PIR(Motion detection sensor)\n"
   ]
  },
  {
   "cell_type": "markdown",
   "metadata": {},
   "source": [
    "# Real world/Business Objectives and Constraints"
   ]
  },
  {
   "cell_type": "markdown",
   "metadata": {},
   "source": [
    "1.The cost of a mis-classification can be very high.\n",
    "\n",
    "2.No strict latency concerns."
   ]
  },
  {
   "cell_type": "markdown",
   "metadata": {},
   "source": [
    "# Mapping the real world problem to an ML problem"
   ]
  },
  {
   "cell_type": "markdown",
   "metadata": {},
   "source": [
    "# Type of Machine Leaning Problem"
   ]
  },
  {
   "cell_type": "markdown",
   "metadata": {},
   "source": [
    "Supervised Learning:\n",
    "\n",
    "It is a Multi classification problem, for a given sensor data we need to classify if it is critical, Normal, or Testing"
   ]
  },
  {
   "cell_type": "markdown",
   "metadata": {},
   "source": [
    "# Train and Test Construction"
   ]
  },
  {
   "cell_type": "markdown",
   "metadata": {},
   "source": [
    "We build train and test by randomly splitting in the ratio of 70:30 or 80:20 whatever we choose as we have sufficient points to work with."
   ]
  },
  {
   "cell_type": "markdown",
   "metadata": {},
   "source": [
    "# Importing Necessary Libraries"
   ]
  },
  {
   "cell_type": "code",
   "execution_count": 1,
   "metadata": {},
   "outputs": [],
   "source": [
    "import pandas as pd\n",
    "import numpy as np\n",
    "import seaborn as sns\n",
    "import matplotlib.pyplot as plt\n",
    "from matplotlib import rcParams\n",
    "from matplotlib.cm import rainbow\n",
    "%matplotlib inline\n",
    "import warnings\n",
    "\n",
    "warnings.filterwarnings('ignore')\n"
   ]
  },
  {
   "cell_type": "markdown",
   "metadata": {},
   "source": [
    "# Data"
   ]
  },
  {
   "cell_type": "code",
   "execution_count": null,
   "metadata": {},
   "outputs": [],
   "source": [
    "data1= pd.read_csv('Master - Ack Time Analysis From April-20 to August-20 - Details.csv')\n",
    "data=data1.drop(['Branch'],axis=1)\n",
    "data"
   ]
  },
  {
   "cell_type": "markdown",
   "metadata": {},
   "source": [
    "## Showing first 5 rows of the dataset"
   ]
  },
  {
   "cell_type": "code",
   "execution_count": null,
   "metadata": {},
   "outputs": [],
   "source": [
    "data.head(5)"
   ]
  },
  {
   "cell_type": "code",
   "execution_count": null,
   "metadata": {},
   "outputs": [],
   "source": [
    "#Diiferent types of sensor are used in the bank"
   ]
  },
  {
   "cell_type": "code",
   "execution_count": 133,
   "metadata": {},
   "outputs": [
    {
     "data": {
      "text/plain": [
       "0                Network\n",
       "1                    PIR\n",
       "5              Vibration\n",
       "9                 Hooter\n",
       "10         Front Shutter\n",
       "42           Stop Panic \n",
       "43           Arm Dis-Arm\n",
       "59                Panic \n",
       "92                Smoke \n",
       "119         Energy Vault\n",
       "197           Chest Door\n",
       "7985       UPS Room Door\n",
       "11871      ATM Back Door\n",
       "82659         Chest Door\n",
       "82666           Network \n",
       "82667         Vibration \n",
       "82713              Smoke\n",
       "82719      Front Shutter\n",
       "82737              Panic\n",
       "113385               NaN\n",
       "Name: SENSOR NAME (Standard), dtype: object"
      ]
     },
     "execution_count": 133,
     "metadata": {},
     "output_type": "execute_result"
    }
   ],
   "source": [
    "sensors_type=data['SENSOR NAME (Standard)'].drop_duplicates()\n",
    "sensors_type"
   ]
  },
  {
   "cell_type": "markdown",
   "metadata": {},
   "source": [
    "# Shape"
   ]
  },
  {
   "cell_type": "code",
   "execution_count": 4,
   "metadata": {},
   "outputs": [
    {
     "data": {
      "text/plain": [
       "(185687, 16)"
      ]
     },
     "execution_count": 4,
     "metadata": {},
     "output_type": "execute_result"
    }
   ],
   "source": [
    "data.shape"
   ]
  },
  {
   "cell_type": "markdown",
   "metadata": {},
   "source": [
    "## Counting the output values for each categories"
   ]
  },
  {
   "cell_type": "code",
   "execution_count": 5,
   "metadata": {},
   "outputs": [
    {
     "data": {
      "text/plain": [
       "<bound method Series.count of True_Normal      110395\n",
       " Testing          36442\n",
       " False_False      23755\n",
       "True_Critical     10505\n",
       "FALSE              4590\n",
       "Name: Status, dtype: int64>"
      ]
     },
     "execution_count": 5,
     "metadata": {},
     "output_type": "execute_result"
    }
   ],
   "source": [
    "data.Status.value_counts().count"
   ]
  },
  {
   "cell_type": "markdown",
   "metadata": {},
   "source": [
    "# Features of the data set"
   ]
  },
  {
   "cell_type": "code",
   "execution_count": 6,
   "metadata": {},
   "outputs": [
    {
     "data": {
      "text/plain": [
       "Index(['DATE', 'SOL ID', 'Branch', 'SENSOR (As of Portal)', 'Region', 'STATE',\n",
       "       'SENSOR NAME (Standard)', ' EVENT', 'EVENT DATE AND TIME',\n",
       "       'AKNOWLEDGE STATUS', 'Confirmation', 'LOG ID', '2nd AKNOWLEDGE STATUS',\n",
       "       'Status', 'Month', 'Reason'],\n",
       "      dtype='object')"
      ]
     },
     "execution_count": 6,
     "metadata": {},
     "output_type": "execute_result"
    }
   ],
   "source": [
    "data.columns"
   ]
  },
  {
   "cell_type": "markdown",
   "metadata": {},
   "source": [
    "## Number of distinct observations "
   ]
  },
  {
   "cell_type": "code",
   "execution_count": 13,
   "metadata": {},
   "outputs": [
    {
     "data": {
      "text/plain": [
       "DATE                         177\n",
       "SOL ID                      1721\n",
       "Branch                      1793\n",
       "SENSOR (As of Portal)       1327\n",
       "Region                         4\n",
       "STATE                         22\n",
       "SENSOR NAME (Standard)        19\n",
       " EVENT                        14\n",
       "EVENT DATE AND TIME        73423\n",
       "AKNOWLEDGE STATUS           9864\n",
       "Confirmation                  36\n",
       "LOG ID                    185475\n",
       "2nd AKNOWLEDGE STATUS      10078\n",
       "Status                         5\n",
       "Month                          6\n",
       "Reason                        18\n",
       "dtype: int64"
      ]
     },
     "execution_count": 13,
     "metadata": {},
     "output_type": "execute_result"
    }
   ],
   "source": [
    "data.nunique()"
   ]
  },
  {
   "cell_type": "markdown",
   "metadata": {},
   "source": [
    "# Removing the Unnecessary Columns"
   ]
  },
  {
   "cell_type": "code",
   "execution_count": null,
   "metadata": {},
   "outputs": [],
   "source": [
    "p=data.drop(['LOG ID','SENSOR (As of Portal)','DATE','SENSOR NAME (Standard)', 'Month','EVENT DATE AND TIME','Reason'], axis=1)\n",
    "p\n"
   ]
  },
  {
   "cell_type": "markdown",
   "metadata": {},
   "source": [
    "## Checking for NaN/null values"
   ]
  },
  {
   "cell_type": "code",
   "execution_count": 141,
   "metadata": {},
   "outputs": [
    {
     "data": {
      "text/plain": [
       "SOL ID                   0\n",
       "Region                   0\n",
       "STATE                    0\n",
       " EVENT                   0\n",
       "AKNOWLEDGE STATUS        0\n",
       "Confirmation             0\n",
       "2nd AKNOWLEDGE STATUS    0\n",
       "Status                   0\n",
       "dtype: int64"
      ]
     },
     "execution_count": 141,
     "metadata": {},
     "output_type": "execute_result"
    }
   ],
   "source": [
    "p.isna().sum()\n"
   ]
  },
  {
   "cell_type": "markdown",
   "metadata": {},
   "source": [
    "## Handling categorical data"
   ]
  },
  {
   "cell_type": "markdown",
   "metadata": {},
   "source": [
    "Here we are converting categorical data to numerical data using label encoder"
   ]
  },
  {
   "cell_type": "code",
   "execution_count": 142,
   "metadata": {},
   "outputs": [
    {
     "data": {
      "text/html": [
       "<div>\n",
       "<style scoped>\n",
       "    .dataframe tbody tr th:only-of-type {\n",
       "        vertical-align: middle;\n",
       "    }\n",
       "\n",
       "    .dataframe tbody tr th {\n",
       "        vertical-align: top;\n",
       "    }\n",
       "\n",
       "    .dataframe thead th {\n",
       "        text-align: right;\n",
       "    }\n",
       "</style>\n",
       "<table border=\"1\" class=\"dataframe\">\n",
       "  <thead>\n",
       "    <tr style=\"text-align: right;\">\n",
       "      <th></th>\n",
       "      <th>SOL ID</th>\n",
       "      <th>Region</th>\n",
       "      <th>STATE</th>\n",
       "      <th>EVENT</th>\n",
       "      <th>AKNOWLEDGE STATUS</th>\n",
       "      <th>Confirmation</th>\n",
       "      <th>2nd AKNOWLEDGE STATUS</th>\n",
       "      <th>Status</th>\n",
       "    </tr>\n",
       "  </thead>\n",
       "  <tbody>\n",
       "    <tr>\n",
       "      <th>0</th>\n",
       "      <td>1255</td>\n",
       "      <td>3</td>\n",
       "      <td>11</td>\n",
       "      <td>6</td>\n",
       "      <td>7872</td>\n",
       "      <td>14</td>\n",
       "      <td>8079</td>\n",
       "      <td>3</td>\n",
       "    </tr>\n",
       "    <tr>\n",
       "      <th>1</th>\n",
       "      <td>1166</td>\n",
       "      <td>2</td>\n",
       "      <td>17</td>\n",
       "      <td>8</td>\n",
       "      <td>434</td>\n",
       "      <td>15</td>\n",
       "      <td>442</td>\n",
       "      <td>0</td>\n",
       "    </tr>\n",
       "    <tr>\n",
       "      <th>2</th>\n",
       "      <td>1092</td>\n",
       "      <td>2</td>\n",
       "      <td>0</td>\n",
       "      <td>6</td>\n",
       "      <td>7872</td>\n",
       "      <td>14</td>\n",
       "      <td>8079</td>\n",
       "      <td>3</td>\n",
       "    </tr>\n",
       "    <tr>\n",
       "      <th>3</th>\n",
       "      <td>1525</td>\n",
       "      <td>3</td>\n",
       "      <td>11</td>\n",
       "      <td>6</td>\n",
       "      <td>7872</td>\n",
       "      <td>14</td>\n",
       "      <td>8079</td>\n",
       "      <td>3</td>\n",
       "    </tr>\n",
       "    <tr>\n",
       "      <th>4</th>\n",
       "      <td>11</td>\n",
       "      <td>1</td>\n",
       "      <td>15</td>\n",
       "      <td>6</td>\n",
       "      <td>7872</td>\n",
       "      <td>14</td>\n",
       "      <td>8079</td>\n",
       "      <td>3</td>\n",
       "    </tr>\n",
       "    <tr>\n",
       "      <th>...</th>\n",
       "      <td>...</td>\n",
       "      <td>...</td>\n",
       "      <td>...</td>\n",
       "      <td>...</td>\n",
       "      <td>...</td>\n",
       "      <td>...</td>\n",
       "      <td>...</td>\n",
       "      <td>...</td>\n",
       "    </tr>\n",
       "    <tr>\n",
       "      <th>185682</th>\n",
       "      <td>1369</td>\n",
       "      <td>3</td>\n",
       "      <td>16</td>\n",
       "      <td>5</td>\n",
       "      <td>8337</td>\n",
       "      <td>19</td>\n",
       "      <td>8587</td>\n",
       "      <td>4</td>\n",
       "    </tr>\n",
       "    <tr>\n",
       "      <th>185683</th>\n",
       "      <td>1369</td>\n",
       "      <td>3</td>\n",
       "      <td>16</td>\n",
       "      <td>12</td>\n",
       "      <td>8337</td>\n",
       "      <td>19</td>\n",
       "      <td>8587</td>\n",
       "      <td>4</td>\n",
       "    </tr>\n",
       "    <tr>\n",
       "      <th>185684</th>\n",
       "      <td>807</td>\n",
       "      <td>0</td>\n",
       "      <td>13</td>\n",
       "      <td>10</td>\n",
       "      <td>2968</td>\n",
       "      <td>19</td>\n",
       "      <td>3045</td>\n",
       "      <td>1</td>\n",
       "    </tr>\n",
       "    <tr>\n",
       "      <th>185685</th>\n",
       "      <td>807</td>\n",
       "      <td>0</td>\n",
       "      <td>13</td>\n",
       "      <td>5</td>\n",
       "      <td>2968</td>\n",
       "      <td>19</td>\n",
       "      <td>3045</td>\n",
       "      <td>1</td>\n",
       "    </tr>\n",
       "    <tr>\n",
       "      <th>185686</th>\n",
       "      <td>807</td>\n",
       "      <td>0</td>\n",
       "      <td>13</td>\n",
       "      <td>12</td>\n",
       "      <td>2968</td>\n",
       "      <td>19</td>\n",
       "      <td>3045</td>\n",
       "      <td>1</td>\n",
       "    </tr>\n",
       "  </tbody>\n",
       "</table>\n",
       "<p>185687 rows × 8 columns</p>\n",
       "</div>"
      ],
      "text/plain": [
       "        SOL ID  Region  STATE   EVENT  AKNOWLEDGE STATUS  Confirmation  \\\n",
       "0         1255       3     11       6               7872            14   \n",
       "1         1166       2     17       8                434            15   \n",
       "2         1092       2      0       6               7872            14   \n",
       "3         1525       3     11       6               7872            14   \n",
       "4           11       1     15       6               7872            14   \n",
       "...        ...     ...    ...     ...                ...           ...   \n",
       "185682    1369       3     16       5               8337            19   \n",
       "185683    1369       3     16      12               8337            19   \n",
       "185684     807       0     13      10               2968            19   \n",
       "185685     807       0     13       5               2968            19   \n",
       "185686     807       0     13      12               2968            19   \n",
       "\n",
       "        2nd AKNOWLEDGE STATUS  Status  \n",
       "0                        8079       3  \n",
       "1                         442       0  \n",
       "2                        8079       3  \n",
       "3                        8079       3  \n",
       "4                        8079       3  \n",
       "...                       ...     ...  \n",
       "185682                   8587       4  \n",
       "185683                   8587       4  \n",
       "185684                   3045       1  \n",
       "185685                   3045       1  \n",
       "185686                   3045       1  \n",
       "\n",
       "[185687 rows x 8 columns]"
      ]
     },
     "execution_count": 142,
     "metadata": {},
     "output_type": "execute_result"
    }
   ],
   "source": [
    "from sklearn.preprocessing import LabelEncoder\n",
    "labelencoder_X=LabelEncoder()\n",
    "xm=p.apply(LabelEncoder().fit_transform)\n",
    "xm"
   ]
  },
  {
   "cell_type": "markdown",
   "metadata": {},
   "source": [
    "# Spliting input features"
   ]
  },
  {
   "cell_type": "code",
   "execution_count": 143,
   "metadata": {},
   "outputs": [
    {
     "data": {
      "text/html": [
       "<div>\n",
       "<style scoped>\n",
       "    .dataframe tbody tr th:only-of-type {\n",
       "        vertical-align: middle;\n",
       "    }\n",
       "\n",
       "    .dataframe tbody tr th {\n",
       "        vertical-align: top;\n",
       "    }\n",
       "\n",
       "    .dataframe thead th {\n",
       "        text-align: right;\n",
       "    }\n",
       "</style>\n",
       "<table border=\"1\" class=\"dataframe\">\n",
       "  <thead>\n",
       "    <tr style=\"text-align: right;\">\n",
       "      <th></th>\n",
       "      <th>SOL ID</th>\n",
       "      <th>Region</th>\n",
       "      <th>STATE</th>\n",
       "      <th>EVENT</th>\n",
       "      <th>AKNOWLEDGE STATUS</th>\n",
       "      <th>Confirmation</th>\n",
       "      <th>2nd AKNOWLEDGE STATUS</th>\n",
       "    </tr>\n",
       "  </thead>\n",
       "  <tbody>\n",
       "    <tr>\n",
       "      <th>0</th>\n",
       "      <td>1255</td>\n",
       "      <td>3</td>\n",
       "      <td>11</td>\n",
       "      <td>6</td>\n",
       "      <td>7872</td>\n",
       "      <td>14</td>\n",
       "      <td>8079</td>\n",
       "    </tr>\n",
       "    <tr>\n",
       "      <th>1</th>\n",
       "      <td>1166</td>\n",
       "      <td>2</td>\n",
       "      <td>17</td>\n",
       "      <td>8</td>\n",
       "      <td>434</td>\n",
       "      <td>15</td>\n",
       "      <td>442</td>\n",
       "    </tr>\n",
       "    <tr>\n",
       "      <th>2</th>\n",
       "      <td>1092</td>\n",
       "      <td>2</td>\n",
       "      <td>0</td>\n",
       "      <td>6</td>\n",
       "      <td>7872</td>\n",
       "      <td>14</td>\n",
       "      <td>8079</td>\n",
       "    </tr>\n",
       "    <tr>\n",
       "      <th>3</th>\n",
       "      <td>1525</td>\n",
       "      <td>3</td>\n",
       "      <td>11</td>\n",
       "      <td>6</td>\n",
       "      <td>7872</td>\n",
       "      <td>14</td>\n",
       "      <td>8079</td>\n",
       "    </tr>\n",
       "    <tr>\n",
       "      <th>4</th>\n",
       "      <td>11</td>\n",
       "      <td>1</td>\n",
       "      <td>15</td>\n",
       "      <td>6</td>\n",
       "      <td>7872</td>\n",
       "      <td>14</td>\n",
       "      <td>8079</td>\n",
       "    </tr>\n",
       "    <tr>\n",
       "      <th>...</th>\n",
       "      <td>...</td>\n",
       "      <td>...</td>\n",
       "      <td>...</td>\n",
       "      <td>...</td>\n",
       "      <td>...</td>\n",
       "      <td>...</td>\n",
       "      <td>...</td>\n",
       "    </tr>\n",
       "    <tr>\n",
       "      <th>185682</th>\n",
       "      <td>1369</td>\n",
       "      <td>3</td>\n",
       "      <td>16</td>\n",
       "      <td>5</td>\n",
       "      <td>8337</td>\n",
       "      <td>19</td>\n",
       "      <td>8587</td>\n",
       "    </tr>\n",
       "    <tr>\n",
       "      <th>185683</th>\n",
       "      <td>1369</td>\n",
       "      <td>3</td>\n",
       "      <td>16</td>\n",
       "      <td>12</td>\n",
       "      <td>8337</td>\n",
       "      <td>19</td>\n",
       "      <td>8587</td>\n",
       "    </tr>\n",
       "    <tr>\n",
       "      <th>185684</th>\n",
       "      <td>807</td>\n",
       "      <td>0</td>\n",
       "      <td>13</td>\n",
       "      <td>10</td>\n",
       "      <td>2968</td>\n",
       "      <td>19</td>\n",
       "      <td>3045</td>\n",
       "    </tr>\n",
       "    <tr>\n",
       "      <th>185685</th>\n",
       "      <td>807</td>\n",
       "      <td>0</td>\n",
       "      <td>13</td>\n",
       "      <td>5</td>\n",
       "      <td>2968</td>\n",
       "      <td>19</td>\n",
       "      <td>3045</td>\n",
       "    </tr>\n",
       "    <tr>\n",
       "      <th>185686</th>\n",
       "      <td>807</td>\n",
       "      <td>0</td>\n",
       "      <td>13</td>\n",
       "      <td>12</td>\n",
       "      <td>2968</td>\n",
       "      <td>19</td>\n",
       "      <td>3045</td>\n",
       "    </tr>\n",
       "  </tbody>\n",
       "</table>\n",
       "<p>185687 rows × 7 columns</p>\n",
       "</div>"
      ],
      "text/plain": [
       "        SOL ID  Region  STATE   EVENT  AKNOWLEDGE STATUS  Confirmation  \\\n",
       "0         1255       3     11       6               7872            14   \n",
       "1         1166       2     17       8                434            15   \n",
       "2         1092       2      0       6               7872            14   \n",
       "3         1525       3     11       6               7872            14   \n",
       "4           11       1     15       6               7872            14   \n",
       "...        ...     ...    ...     ...                ...           ...   \n",
       "185682    1369       3     16       5               8337            19   \n",
       "185683    1369       3     16      12               8337            19   \n",
       "185684     807       0     13      10               2968            19   \n",
       "185685     807       0     13       5               2968            19   \n",
       "185686     807       0     13      12               2968            19   \n",
       "\n",
       "        2nd AKNOWLEDGE STATUS  \n",
       "0                        8079  \n",
       "1                         442  \n",
       "2                        8079  \n",
       "3                        8079  \n",
       "4                        8079  \n",
       "...                       ...  \n",
       "185682                   8587  \n",
       "185683                   8587  \n",
       "185684                   3045  \n",
       "185685                   3045  \n",
       "185686                   3045  \n",
       "\n",
       "[185687 rows x 7 columns]"
      ]
     },
     "execution_count": 143,
     "metadata": {},
     "output_type": "execute_result"
    }
   ],
   "source": [
    "X=xm.iloc[:,:-1]\n",
    "X"
   ]
  },
  {
   "cell_type": "markdown",
   "metadata": {},
   "source": [
    "# Output feature"
   ]
  },
  {
   "cell_type": "code",
   "execution_count": 144,
   "metadata": {},
   "outputs": [
    {
     "data": {
      "text/plain": [
       "0         3\n",
       "1         0\n",
       "2         3\n",
       "3         3\n",
       "4         3\n",
       "         ..\n",
       "185682    4\n",
       "185683    4\n",
       "185684    1\n",
       "185685    1\n",
       "185686    1\n",
       "Name: Status, Length: 185687, dtype: int32"
      ]
     },
     "execution_count": 144,
     "metadata": {},
     "output_type": "execute_result"
    }
   ],
   "source": [
    "y=xm.iloc[:,7]\n",
    "y"
   ]
  },
  {
   "cell_type": "code",
   "execution_count": 145,
   "metadata": {},
   "outputs": [
    {
     "data": {
      "text/plain": [
       "['SOL ID',\n",
       " 'Region',\n",
       " 'STATE',\n",
       " ' EVENT',\n",
       " 'AKNOWLEDGE STATUS',\n",
       " 'Confirmation',\n",
       " '2nd AKNOWLEDGE STATUS']"
      ]
     },
     "execution_count": 145,
     "metadata": {},
     "output_type": "execute_result"
    }
   ],
   "source": [
    "#columns to list\n",
    "feature_names = X.columns.tolist()\n",
    "feature_names"
   ]
  },
  {
   "cell_type": "markdown",
   "metadata": {},
   "source": [
    "# Feature Importance"
   ]
  },
  {
   "cell_type": "code",
   "execution_count": 146,
   "metadata": {},
   "outputs": [],
   "source": [
    "#importing the ExtraTreesRegressor\n",
    "from sklearn.ensemble import ExtraTreesRegressor\n",
    "import matplotlib.pyplot as plt\n"
   ]
  },
  {
   "cell_type": "code",
   "execution_count": 147,
   "metadata": {},
   "outputs": [],
   "source": [
    "model = ExtraTreesRegressor()\n"
   ]
  },
  {
   "cell_type": "code",
   "execution_count": 148,
   "metadata": {},
   "outputs": [
    {
     "name": "stdout",
     "output_type": "stream",
     "text": [
      "[0.04941096 0.01162244 0.01898071 0.03501246 0.31675196 0.16743766\n",
      " 0.40078382]\n"
     ]
    }
   ],
   "source": [
    "model.fit(X,y)\n",
    "\n",
    "print(model.feature_importances_)\n"
   ]
  },
  {
   "cell_type": "markdown",
   "metadata": {},
   "source": [
    "# Which are the best features?"
   ]
  },
  {
   "cell_type": "code",
   "execution_count": 149,
   "metadata": {},
   "outputs": [
    {
     "data": {
      "image/png": "[encoded data removed]",
      "text/plain": [
       "<Figure size 432x288 with 1 Axes>"
      ]
     },
     "metadata": {
      "needs_background": "light"
     },
     "output_type": "display_data"
    }
   ],
   "source": [
    "#Top 5 important features\n",
    "feat_importances = pd.Series(model.feature_importances_, index=X.columns)\n",
    "feat_importances.nlargest(5).plot(kind='barh')\n",
    "plt.show()"
   ]
  },
  {
   "cell_type": "markdown",
   "metadata": {},
   "source": [
    "Calculate the correlation with y for each feature "
   ]
  },
  {
   "cell_type": "code",
   "execution_count": 150,
   "metadata": {},
   "outputs": [
    {
     "data": {
      "text/html": [
       "<div>\n",
       "<style scoped>\n",
       "    .dataframe tbody tr th:only-of-type {\n",
       "        vertical-align: middle;\n",
       "    }\n",
       "\n",
       "    .dataframe tbody tr th {\n",
       "        vertical-align: top;\n",
       "    }\n",
       "\n",
       "    .dataframe thead th {\n",
       "        text-align: right;\n",
       "    }\n",
       "</style>\n",
       "<table border=\"1\" class=\"dataframe\">\n",
       "  <thead>\n",
       "    <tr style=\"text-align: right;\">\n",
       "      <th></th>\n",
       "      <th>SOL ID</th>\n",
       "      <th>Region</th>\n",
       "      <th>STATE</th>\n",
       "      <th>EVENT</th>\n",
       "      <th>AKNOWLEDGE STATUS</th>\n",
       "      <th>Confirmation</th>\n",
       "      <th>2nd AKNOWLEDGE STATUS</th>\n",
       "      <th>Status</th>\n",
       "    </tr>\n",
       "  </thead>\n",
       "  <tbody>\n",
       "    <tr>\n",
       "      <th>SOL ID</th>\n",
       "      <td>1.000000</td>\n",
       "      <td>0.265381</td>\n",
       "      <td>0.076566</td>\n",
       "      <td>0.019894</td>\n",
       "      <td>0.009091</td>\n",
       "      <td>-0.011106</td>\n",
       "      <td>0.010405</td>\n",
       "      <td>0.013946</td>\n",
       "    </tr>\n",
       "    <tr>\n",
       "      <th>Region</th>\n",
       "      <td>0.265381</td>\n",
       "      <td>1.000000</td>\n",
       "      <td>-0.265645</td>\n",
       "      <td>-0.004633</td>\n",
       "      <td>-0.030057</td>\n",
       "      <td>-0.013371</td>\n",
       "      <td>-0.028609</td>\n",
       "      <td>0.023269</td>\n",
       "    </tr>\n",
       "    <tr>\n",
       "      <th>STATE</th>\n",
       "      <td>0.076566</td>\n",
       "      <td>-0.265645</td>\n",
       "      <td>1.000000</td>\n",
       "      <td>-0.018737</td>\n",
       "      <td>0.028354</td>\n",
       "      <td>0.002211</td>\n",
       "      <td>0.028944</td>\n",
       "      <td>0.042123</td>\n",
       "    </tr>\n",
       "    <tr>\n",
       "      <th>EVENT</th>\n",
       "      <td>0.019894</td>\n",
       "      <td>-0.004633</td>\n",
       "      <td>-0.018737</td>\n",
       "      <td>1.000000</td>\n",
       "      <td>0.017059</td>\n",
       "      <td>-0.036335</td>\n",
       "      <td>0.019393</td>\n",
       "      <td>0.040683</td>\n",
       "    </tr>\n",
       "    <tr>\n",
       "      <th>AKNOWLEDGE STATUS</th>\n",
       "      <td>0.009091</td>\n",
       "      <td>-0.030057</td>\n",
       "      <td>0.028354</td>\n",
       "      <td>0.017059</td>\n",
       "      <td>1.000000</td>\n",
       "      <td>0.008753</td>\n",
       "      <td>0.959627</td>\n",
       "      <td>0.287432</td>\n",
       "    </tr>\n",
       "    <tr>\n",
       "      <th>Confirmation</th>\n",
       "      <td>-0.011106</td>\n",
       "      <td>-0.013371</td>\n",
       "      <td>0.002211</td>\n",
       "      <td>-0.036335</td>\n",
       "      <td>0.008753</td>\n",
       "      <td>1.000000</td>\n",
       "      <td>0.019503</td>\n",
       "      <td>0.109857</td>\n",
       "    </tr>\n",
       "    <tr>\n",
       "      <th>2nd AKNOWLEDGE STATUS</th>\n",
       "      <td>0.010405</td>\n",
       "      <td>-0.028609</td>\n",
       "      <td>0.028944</td>\n",
       "      <td>0.019393</td>\n",
       "      <td>0.959627</td>\n",
       "      <td>0.019503</td>\n",
       "      <td>1.000000</td>\n",
       "      <td>0.308584</td>\n",
       "    </tr>\n",
       "    <tr>\n",
       "      <th>Status</th>\n",
       "      <td>0.013946</td>\n",
       "      <td>0.023269</td>\n",
       "      <td>0.042123</td>\n",
       "      <td>0.040683</td>\n",
       "      <td>0.287432</td>\n",
       "      <td>0.109857</td>\n",
       "      <td>0.308584</td>\n",
       "      <td>1.000000</td>\n",
       "    </tr>\n",
       "  </tbody>\n",
       "</table>\n",
       "</div>"
      ],
      "text/plain": [
       "                         SOL ID    Region     STATE     EVENT  \\\n",
       "SOL ID                 1.000000  0.265381  0.076566  0.019894   \n",
       "Region                 0.265381  1.000000 -0.265645 -0.004633   \n",
       "STATE                  0.076566 -0.265645  1.000000 -0.018737   \n",
       " EVENT                 0.019894 -0.004633 -0.018737  1.000000   \n",
       "AKNOWLEDGE STATUS      0.009091 -0.030057  0.028354  0.017059   \n",
       "Confirmation          -0.011106 -0.013371  0.002211 -0.036335   \n",
       "2nd AKNOWLEDGE STATUS  0.010405 -0.028609  0.028944  0.019393   \n",
       "Status                 0.013946  0.023269  0.042123  0.040683   \n",
       "\n",
       "                       AKNOWLEDGE STATUS  Confirmation  2nd AKNOWLEDGE STATUS  \\\n",
       "SOL ID                          0.009091     -0.011106               0.010405   \n",
       "Region                         -0.030057     -0.013371              -0.028609   \n",
       "STATE                           0.028354      0.002211               0.028944   \n",
       " EVENT                          0.017059     -0.036335               0.019393   \n",
       "AKNOWLEDGE STATUS               1.000000      0.008753               0.959627   \n",
       "Confirmation                    0.008753      1.000000               0.019503   \n",
       "2nd AKNOWLEDGE STATUS           0.959627      0.019503               1.000000   \n",
       "Status                          0.287432      0.109857               0.308584   \n",
       "\n",
       "                         Status  \n",
       "SOL ID                 0.013946  \n",
       "Region                 0.023269  \n",
       "STATE                  0.042123  \n",
       " EVENT                 0.040683  \n",
       "AKNOWLEDGE STATUS      0.287432  \n",
       "Confirmation           0.109857  \n",
       "2nd AKNOWLEDGE STATUS  0.308584  \n",
       "Status                 1.000000  "
      ]
     },
     "execution_count": 150,
     "metadata": {},
     "output_type": "execute_result"
    }
   ],
   "source": [
    "xm.corr()"
   ]
  },
  {
   "cell_type": "markdown",
   "metadata": {},
   "source": [
    "# Heat Map"
   ]
  },
  {
   "cell_type": "code",
   "execution_count": 151,
   "metadata": {},
   "outputs": [
    {
     "data": {
      "image/png": "[encoded data removed]",
      "text/plain": [
       "<Figure size 1800x1800 with 2 Axes>"
      ]
     },
     "metadata": {
      "needs_background": "light"
     },
     "output_type": "display_data"
    }
   ],
   "source": [
    "#get correlations of each features in dataset\n",
    "corrmat = xm.corr()\n",
    "corr_features = corrmat.index\n",
    "plt.figure(figsize=(25,25))\n",
    "#plot heat map\n",
    "\n",
    "c=sns.heatmap(xm[corr_features].corr(),annot=True,cmap=\"RdYlGn\")"
   ]
  },
  {
   "cell_type": "markdown",
   "metadata": {},
   "source": [
    "df.pivot(index='Business', columns='Date', values='Value')\n"
   ]
  },
  {
   "cell_type": "markdown",
   "metadata": {},
   "source": [
    "# Split Train and Test data"
   ]
  },
  {
   "cell_type": "code",
   "execution_count": 152,
   "metadata": {},
   "outputs": [
    {
     "name": "stdout",
     "output_type": "stream",
     "text": [
      "(129980, 7)\n",
      "(55707, 7)\n",
      "(129980,)\n",
      "(55707,)\n"
     ]
    }
   ],
   "source": [
    "from sklearn.model_selection import train_test_split\n",
    "X_train, X_test, y_train, y_test = train_test_split(X, y, test_size = 0.30, random_state=5)\n",
    "\n",
    "print(X_train.shape)\n",
    "print(X_test.shape)\n",
    "print(y_train.shape)\n",
    "print(y_test.shape)\n",
    "\n"
   ]
  },
  {
   "cell_type": "markdown",
   "metadata": {},
   "source": [
    "## Building machine learing model"
   ]
  },
  {
   "cell_type": "markdown",
   "metadata": {},
   "source": [
    "# 1. Logistic Regression"
   ]
  },
  {
   "cell_type": "code",
   "execution_count": 153,
   "metadata": {},
   "outputs": [
    {
     "name": "stdout",
     "output_type": "stream",
     "text": [
      "0.5971062882582081\n",
      "0.5919603015848592\n"
     ]
    }
   ],
   "source": [
    "from sklearn.model_selection import train_test_split\n",
    "from sklearn.linear_model import LogisticRegression\n",
    "\n",
    "data = p\n",
    "\n",
    "X_train, X_test, y_train, y_test = train_test_split(X, y, test_size = 0.30, random_state=5)\n",
    "\n",
    "\n",
    "model = LogisticRegression()\n",
    "\n",
    "model.fit(X_train, y_train)\n",
    "\n",
    "print(model.score(X_test, y_test))\n",
    "print(model.score(X_train, y_train))\n",
    "\n",
    "\n"
   ]
  },
  {
   "cell_type": "markdown",
   "metadata": {},
   "source": [
    "Logistic Regression with L1 regularization"
   ]
  },
  {
   "cell_type": "code",
   "execution_count": 158,
   "metadata": {},
   "outputs": [],
   "source": [
    "LR = LogisticRegression( solver='liblinear',penalty = 'l1', C = 0.01) "
   ]
  },
  {
   "cell_type": "code",
   "execution_count": 159,
   "metadata": {},
   "outputs": [
    {
     "data": {
      "text/plain": [
       "LogisticRegression(C=0.01, penalty='l1', solver='liblinear')"
      ]
     },
     "execution_count": 159,
     "metadata": {},
     "output_type": "execute_result"
    }
   ],
   "source": [
    "LR.fit(X_train, y_train)"
   ]
  },
  {
   "cell_type": "code",
   "execution_count": 162,
   "metadata": {},
   "outputs": [
    {
     "name": "stdout",
     "output_type": "stream",
     "text": [
      "0.6042867144165006\n",
      "0.5974765348515156\n"
     ]
    }
   ],
   "source": [
    "print(LR.score(X_test, y_test))\n",
    "print(LR.score(X_train, y_train))"
   ]
  },
  {
   "cell_type": "markdown",
   "metadata": {},
   "source": [
    "# 2. GradientBoostingClassifier"
   ]
  },
  {
   "cell_type": "code",
   "execution_count": 167,
   "metadata": {},
   "outputs": [],
   "source": [
    "from sklearn.ensemble import GradientBoostingClassifier\n"
   ]
  },
  {
   "cell_type": "code",
   "execution_count": 177,
   "metadata": {},
   "outputs": [],
   "source": [
    "clf = GradientBoostingClassifier(n_estimators=100, learning_rate=1.0, max_depth=1, random_state=0).fit(X_train, y_train)\n"
   ]
  },
  {
   "cell_type": "code",
   "execution_count": 168,
   "metadata": {},
   "outputs": [
    {
     "name": "stdout",
     "output_type": "stream",
     "text": [
      "0.9275674511282245\n",
      "0.926104016002462\n"
     ]
    }
   ],
   "source": [
    "print(clf.score(X_test, y_test))\n",
    "print(clf.score(X_train, y_train))"
   ]
  },
  {
   "cell_type": "markdown",
   "metadata": {},
   "source": [
    "# 3. KNearest Neighbour"
   ]
  },
  {
   "cell_type": "code",
   "execution_count": 173,
   "metadata": {},
   "outputs": [
    {
     "name": "stdout",
     "output_type": "stream",
     "text": [
      "0.9670777460642289\n"
     ]
    }
   ],
   "source": [
    "from sklearn.neighbors import KNeighborsClassifier\n",
    "knn_classifier = KNeighborsClassifier()\n",
    "knn_classifier.fit(X_train, y_train)\n",
    "knn_predictions = knn_classifier.predict(X_test)\n",
    "print(knn_classifier.score(X_test, y_test))"
   ]
  },
  {
   "cell_type": "code",
   "execution_count": 181,
   "metadata": {},
   "outputs": [
    {
     "name": "stdout",
     "output_type": "stream",
     "text": [
      "[3]\n",
      "[1]\n"
     ]
    }
   ],
   "source": [
    "\n",
    "X_= np.array([1255,3,11,6,7872,14,8079])\n",
    "y_pred =knn_classifier.predict([X_])\n",
    "\n",
    "\n",
    "X1 = np.array([807,0,13,10,2968,19,3045])\n",
    "y_pred1 =knn_classifier.predict([X1])\n",
    "\n",
    "print(y_pred)\n",
    "print(y_pred1)\n"
   ]
  },
  {
   "cell_type": "markdown",
   "metadata": {},
   "source": [
    "# 4. Random Forest"
   ]
  },
  {
   "cell_type": "code",
   "execution_count": 174,
   "metadata": {},
   "outputs": [
    {
     "name": "stdout",
     "output_type": "stream",
     "text": [
      "0.9797691492990109\n"
     ]
    }
   ],
   "source": [
    "from sklearn.ensemble import RandomForestClassifier\n",
    "rf_classifier = RandomForestClassifier()\n",
    "rf_classifier.fit(X_train, y_train)\n",
    "rf_predictions = rf_classifier.predict(X_test)\n",
    "print(rf_classifier.score(X_test, y_test))\n"
   ]
  },
  {
   "cell_type": "code",
   "execution_count": 182,
   "metadata": {},
   "outputs": [
    {
     "data": {
      "text/plain": [
       "array([1])"
      ]
     },
     "execution_count": 182,
     "metadata": {},
     "output_type": "execute_result"
    }
   ],
   "source": [
    "\n",
    "X_= np.array([807,0,13,10,2968,19,3045])\n",
    "y_pred =rf_classifier.predict([X_])\n",
    "y_pred"
   ]
  },
  {
   "cell_type": "markdown",
   "metadata": {},
   "source": [
    "# 5. Support Vector Machine"
   ]
  },
  {
   "cell_type": "code",
   "execution_count": null,
   "metadata": {},
   "outputs": [],
   "source": [
    "#from sklearn import svm\n"
   ]
  },
  {
   "cell_type": "code",
   "execution_count": null,
   "metadata": {},
   "outputs": [],
   "source": [
    "#Sv_Classifier= svm.SVC()"
   ]
  },
  {
   "cell_type": "code",
   "execution_count": null,
   "metadata": {},
   "outputs": [],
   "source": [
    "#Sv_Classifier.fit(X_train, y_train)\n"
   ]
  },
  {
   "cell_type": "code",
   "execution_count": null,
   "metadata": {},
   "outputs": [],
   "source": [
    "#Sv_predictions = Sv_Classifier.predict(X_test)\n"
   ]
  },
  {
   "cell_type": "code",
   "execution_count": null,
   "metadata": {},
   "outputs": [],
   "source": [
    "#print(Sv_classifier.score(X_test, y_test))"
   ]
  },
  {
   "cell_type": "markdown",
   "metadata": {},
   "source": [
    "# Conclusion"
   ]
  },
  {
   "cell_type": "code",
   "execution_count": 183,
   "metadata": {},
   "outputs": [
    {
     "name": "stdout",
     "output_type": "stream",
     "text": [
      "\n",
      "                     Accuracy     Error\n",
      "                     ----------   --------\n",
      "Logistic Regression : 59.71%       40.29%\n",
      "KNN                 : 96.71%       3.292% \n",
      "Random Forest       : 97.98%       2.023% \n",
      "Gradient Boosting    : 92.76%      7.243% \n"
     ]
    }
   ],
   "source": [
    "print('\\n                     Accuracy     Error')\n",
    "print('                     ----------   --------')\n",
    "print('Logistic Regression : {:.04}%       {:.04}%'.format( model.score(X_test, y_test)* 100,\\\n",
    "                                                  100-(model.score(X_test, y_test) * 100)))\n",
    "\n",
    "print('KNN                 : {:.04}%       {:.04}% '.format(knn_classifier.score(X_test, y_test) * 100,\\\n",
    "                                                        100-(knn_classifier.score(X_test, y_test) * 100)))\n",
    "\n",
    "print('Random Forest       : {:.04}%       {:.04}% '.format(rf_classifier.score(X_test, y_test)* 100,\\\n",
    "                                                           100-(rf_classifier.score(X_test, y_test)* 100)))\n",
    "print('Gradient Boosting    : {:.04}%      {:.04}% '.format(clf.score(X_test, y_test)* 100,\\\n",
    "                                                           100-(clf.score(X_test, y_test)* 100)))\n",
    "#print('Support Vector Machine : {:.04}%     {:.04}% '.format(Sv_Classifer.score(X_test, y_test)* 100,\\\n",
    "                                                        #   100-(Sv_classifier.score(X_test, y_test)* 100)))"
   ]
  },
  {
   "cell_type": "markdown",
   "metadata": {},
   "source": [
    "We can choose the Random Forest,KNN model to get the desired output"
   ]
  },
  {
   "cell_type": "markdown",
   "metadata": {},
   "source": [
    "Happy learning....."
   ]
  }
 ],
 "metadata": {
  "kernelspec": {
   "display_name": "Python 3",
   "language": "python",
   "name": "python3"
  },
  "language_info": {
   "codemirror_mode": {
    "name": "ipython",
    "version": 3
   },
   "file_extension": ".py",
   "mimetype": "text/x-python",
   "name": "python",
   "nbconvert_exporter": "python",
   "pygments_lexer": "ipython3",
   "version": "3.6.5"
  }
 },
 "nbformat": 4,
 "nbformat_minor": 2
}
